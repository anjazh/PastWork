{
  "nbformat": 4,
  "nbformat_minor": 0,
  "metadata": {
    "colab": {
      "provenance": []
    },
    "kernelspec": {
      "name": "python3",
      "display_name": "Python 3"
    },
    "language_info": {
      "name": "python"
    },
    "accelerator": "TPU",
    "gpuClass": "standard"
  },
  "cells": [
    {
      "cell_type": "code",
      "execution_count": 1,
      "metadata": {
        "id": "3MMdDdwG6dfY"
      },
      "outputs": [],
      "source": [
        "import pandas as pd\n",
        "import numpy as np\n",
        "from sklearn.tree import DecisionTreeClassifier\n",
        "from sklearn.model_selection import train_test_split\n",
        "from sklearn.metrics import accuracy_score\n",
        "from sklearn.linear_model import LogisticRegression\n"
      ]
    },
    {
      "cell_type": "code",
      "source": [
        "# Load train and test data\n",
        "train_df = pd.read_csv('train.csv')\n",
        "test_df = pd.read_csv('test.csv')\n",
        "\n",
        "# Drop the unnecessary columns\n",
        "train_df.drop(['Booking_ID', 'type_of_meal_plan'], axis=1, inplace=True)\n",
        "test_df.drop(['Booking_ID', 'type_of_meal_plan'], axis=1, inplace=True)\n",
        "\n",
        "# Encode categorical variables using one-hot encoding\n",
        "train_df = pd.get_dummies(train_df)\n",
        "test_df = pd.get_dummies(test_df)\n",
        "\n",
        "# Separate features and target variable\n",
        "X_train = train_df.drop('booking_status_Canceled', axis=1)\n",
        "y_train = train_df['booking_status_Canceled']\n",
        "X_test = test_df.drop('booking_status_Canceled', axis=1)\n",
        "y_test = test_df['booking_status_Canceled']\n",
        "\n",
        "# Create a logistic regression object\n",
        "logreg = LogisticRegression()\n",
        "\n",
        "# Fit the model to the training data\n",
        "logreg.fit(X_train, y_train)\n",
        "\n",
        "# Predict on the test data\n",
        "y_pred = logreg.predict(X_test)\n",
        "\n",
        "# Calculate accuracy on test data\n",
        "acc_test = accuracy_score(y_test, y_pred)\n",
        "print(\"Test Accuracy:\", acc_test)\n",
        "\n",
        "# Calculate accuracy on training data\n",
        "y_pred_train = logreg.predict(X_train)\n",
        "acc_train = accuracy_score(y_train, y_pred_train)\n",
        "print(\"Training Accuracy:\", acc_train)\n"
      ],
      "metadata": {
        "colab": {
          "base_uri": "https://localhost:8080/"
        },
        "id": "zTsR5_l10vi1",
        "outputId": "649e68a3-d453-475e-b1dd-749455494536"
      },
      "execution_count": 2,
      "outputs": [
        {
          "output_type": "stream",
          "name": "stdout",
          "text": [
            "Test Accuracy: 0.9965541006202618\n",
            "Training Accuracy: 0.9979669193659545\n"
          ]
        },
        {
          "output_type": "stream",
          "name": "stderr",
          "text": [
            "/usr/local/lib/python3.9/dist-packages/sklearn/linear_model/_logistic.py:458: ConvergenceWarning: lbfgs failed to converge (status=1):\n",
            "STOP: TOTAL NO. of ITERATIONS REACHED LIMIT.\n",
            "\n",
            "Increase the number of iterations (max_iter) or scale the data as shown in:\n",
            "    https://scikit-learn.org/stable/modules/preprocessing.html\n",
            "Please also refer to the documentation for alternative solver options:\n",
            "    https://scikit-learn.org/stable/modules/linear_model.html#logistic-regression\n",
            "  n_iter_i = _check_optimize_result(\n"
          ]
        }
      ]
    },
    {
      "cell_type": "code",
      "source": [
        "#save trained logistic regression model using pickle\n",
        "import pickle\n",
        "\n",
        "# Save the trained logistic regression model\n",
        "with open(\"logreg_model.pkl\", \"wb\") as f:\n",
        "    pickle.dump(logreg, f)"
      ],
      "metadata": {
        "id": "u12MsOpTBLuw"
      },
      "execution_count": 3,
      "outputs": []
    },
    {
      "cell_type": "code",
      "source": [
        "column_names = list(train_df)\n",
        "print(column_names)"
      ],
      "metadata": {
        "colab": {
          "base_uri": "https://localhost:8080/"
        },
        "id": "-U23AZED2dal",
        "outputId": "f1f4a8cb-8da2-4b24-aa5e-ed8db137d858"
      },
      "execution_count": 4,
      "outputs": [
        {
          "output_type": "stream",
          "name": "stdout",
          "text": [
            "['no_of_adults', 'no_of_children', 'no_of_weekend_nights', 'no_of_week_nights', 'required_car_parking_space', 'lead_time', 'arrival_year', 'arrival_month', 'arrival_date', 'repeated_guest', 'no_of_previous_cancellations', 'no_of_previous_bookings_not_canceled', 'avg_price_per_room', 'no_of_special_requests', 'room_type_reserved_Room_Type 1', 'room_type_reserved_Room_Type 2', 'room_type_reserved_Room_Type 3', 'room_type_reserved_Room_Type 4', 'room_type_reserved_Room_Type 5', 'room_type_reserved_Room_Type 6', 'room_type_reserved_Room_Type 7', 'market_segment_type_Aviation', 'market_segment_type_Complementary', 'market_segment_type_Corporate', 'market_segment_type_Offline', 'market_segment_type_Online', 'booking_status_Canceled', 'booking_status_Not_Canceled']\n"
          ]
        }
      ]
    },
    {
      "cell_type": "code",
      "source": [
        "# Load the trained logistic regression model\n",
        "logreg = pickle.load(open(\"logreg_model.pkl\", \"rb\"))\n",
        "\n",
        "# Use the model to predict the \"booking_status_Canceled\" column for the test dataset\n",
        "predictions = logreg.predict(X_test)\n",
        "\n",
        "#convert into categorical values\n",
        "predictions = ['Canceled' if p == 1 else 'Not_Canceled' for p in predictions]\n",
        "\n",
        "# Save the predictions to a CSV file\n",
        "output_df = pd.DataFrame({'booking_status_Canceled': predictions})\n",
        "output_df.to_csv(\"predictions.csv\", index=False, header=False)\n"
      ],
      "metadata": {
        "id": "Ss49vaRy2V4T"
      },
      "execution_count": 5,
      "outputs": []
    }
  ]
}